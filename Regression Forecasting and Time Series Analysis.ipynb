{
 "cells": [
  {
   "cell_type": "code",
   "execution_count": 41,
   "id": "a2e7fc02-744c-4aa4-9391-13c607aad33f",
   "metadata": {},
   "outputs": [],
   "source": [
    "import numpy as np\n",
    "import pandas as pd\n",
    "\n",
    "df = pd.read_csv('uber.csv')"
   ]
  },
  {
   "cell_type": "code",
   "execution_count": 43,
   "id": "b5bad889-9d61-40a8-94dd-9e839a18f28f",
   "metadata": {},
   "outputs": [
    {
     "data": {
      "text/html": [
       "<div>\n",
       "<style scoped>\n",
       "    .dataframe tbody tr th:only-of-type {\n",
       "        vertical-align: middle;\n",
       "    }\n",
       "\n",
       "    .dataframe tbody tr th {\n",
       "        vertical-align: top;\n",
       "    }\n",
       "\n",
       "    .dataframe thead th {\n",
       "        text-align: right;\n",
       "    }\n",
       "</style>\n",
       "<table border=\"1\" class=\"dataframe\">\n",
       "  <thead>\n",
       "    <tr style=\"text-align: right;\">\n",
       "      <th></th>\n",
       "      <th>Unnamed: 0</th>\n",
       "      <th>key</th>\n",
       "      <th>fare_amount</th>\n",
       "      <th>pickup_datetime</th>\n",
       "      <th>pickup_longitude</th>\n",
       "      <th>pickup_latitude</th>\n",
       "      <th>dropoff_longitude</th>\n",
       "      <th>dropoff_latitude</th>\n",
       "      <th>passenger_count</th>\n",
       "    </tr>\n",
       "  </thead>\n",
       "  <tbody>\n",
       "    <tr>\n",
       "      <th>13200</th>\n",
       "      <td>32388221</td>\n",
       "      <td>58:16.0</td>\n",
       "      <td>7.7</td>\n",
       "      <td>2012-06-28 08:58:16 UTC</td>\n",
       "      <td>-74.005574</td>\n",
       "      <td>40.745958</td>\n",
       "      <td>-73.987534</td>\n",
       "      <td>40.749808</td>\n",
       "      <td>1</td>\n",
       "    </tr>\n",
       "    <tr>\n",
       "      <th>111874</th>\n",
       "      <td>25875395</td>\n",
       "      <td>48:00.0</td>\n",
       "      <td>6.1</td>\n",
       "      <td>2009-11-04 10:48:00 UTC</td>\n",
       "      <td>-73.974078</td>\n",
       "      <td>40.765260</td>\n",
       "      <td>-73.979548</td>\n",
       "      <td>40.777763</td>\n",
       "      <td>1</td>\n",
       "    </tr>\n",
       "    <tr>\n",
       "      <th>23595</th>\n",
       "      <td>4252867</td>\n",
       "      <td>09:19.0</td>\n",
       "      <td>12.1</td>\n",
       "      <td>2011-12-08 17:09:19 UTC</td>\n",
       "      <td>-73.999692</td>\n",
       "      <td>40.761332</td>\n",
       "      <td>-74.003899</td>\n",
       "      <td>40.741910</td>\n",
       "      <td>1</td>\n",
       "    </tr>\n",
       "    <tr>\n",
       "      <th>13038</th>\n",
       "      <td>13003862</td>\n",
       "      <td>16:00.0</td>\n",
       "      <td>10.1</td>\n",
       "      <td>2010-11-18 14:16:00 UTC</td>\n",
       "      <td>-73.963968</td>\n",
       "      <td>40.808180</td>\n",
       "      <td>-73.951258</td>\n",
       "      <td>40.785917</td>\n",
       "      <td>4</td>\n",
       "    </tr>\n",
       "    <tr>\n",
       "      <th>79083</th>\n",
       "      <td>46296438</td>\n",
       "      <td>54:03.0</td>\n",
       "      <td>7.0</td>\n",
       "      <td>2014-09-28 21:54:03 UTC</td>\n",
       "      <td>-73.986319</td>\n",
       "      <td>40.734757</td>\n",
       "      <td>-74.002116</td>\n",
       "      <td>40.745187</td>\n",
       "      <td>1</td>\n",
       "    </tr>\n",
       "    <tr>\n",
       "      <th>195815</th>\n",
       "      <td>42058222</td>\n",
       "      <td>21:00.0</td>\n",
       "      <td>5.0</td>\n",
       "      <td>2013-07-30 22:21:00 UTC</td>\n",
       "      <td>-73.968682</td>\n",
       "      <td>40.762242</td>\n",
       "      <td>-73.975690</td>\n",
       "      <td>40.752692</td>\n",
       "      <td>2</td>\n",
       "    </tr>\n",
       "    <tr>\n",
       "      <th>68094</th>\n",
       "      <td>37136291</td>\n",
       "      <td>14:54.0</td>\n",
       "      <td>12.1</td>\n",
       "      <td>2011-04-15 03:14:54 UTC</td>\n",
       "      <td>-73.993283</td>\n",
       "      <td>40.762737</td>\n",
       "      <td>-73.938328</td>\n",
       "      <td>40.792056</td>\n",
       "      <td>1</td>\n",
       "    </tr>\n",
       "  </tbody>\n",
       "</table>\n",
       "</div>"
      ],
      "text/plain": [
       "        Unnamed: 0      key  fare_amount          pickup_datetime  \\\n",
       "13200     32388221  58:16.0          7.7  2012-06-28 08:58:16 UTC   \n",
       "111874    25875395  48:00.0          6.1  2009-11-04 10:48:00 UTC   \n",
       "23595      4252867  09:19.0         12.1  2011-12-08 17:09:19 UTC   \n",
       "13038     13003862  16:00.0         10.1  2010-11-18 14:16:00 UTC   \n",
       "79083     46296438  54:03.0          7.0  2014-09-28 21:54:03 UTC   \n",
       "195815    42058222  21:00.0          5.0  2013-07-30 22:21:00 UTC   \n",
       "68094     37136291  14:54.0         12.1  2011-04-15 03:14:54 UTC   \n",
       "\n",
       "        pickup_longitude  pickup_latitude  dropoff_longitude  \\\n",
       "13200         -74.005574        40.745958         -73.987534   \n",
       "111874        -73.974078        40.765260         -73.979548   \n",
       "23595         -73.999692        40.761332         -74.003899   \n",
       "13038         -73.963968        40.808180         -73.951258   \n",
       "79083         -73.986319        40.734757         -74.002116   \n",
       "195815        -73.968682        40.762242         -73.975690   \n",
       "68094         -73.993283        40.762737         -73.938328   \n",
       "\n",
       "        dropoff_latitude  passenger_count  \n",
       "13200          40.749808                1  \n",
       "111874         40.777763                1  \n",
       "23595          40.741910                1  \n",
       "13038          40.785917                4  \n",
       "79083          40.745187                1  \n",
       "195815         40.752692                2  \n",
       "68094          40.792056                1  "
      ]
     },
     "execution_count": 43,
     "metadata": {},
     "output_type": "execute_result"
    }
   ],
   "source": [
    "df.sample(7)"
   ]
  },
  {
   "cell_type": "code",
   "execution_count": 45,
   "id": "31c43fd8-5189-4111-b13b-af12c7a9ef0e",
   "metadata": {},
   "outputs": [
    {
     "name": "stdout",
     "output_type": "stream",
     "text": [
      "<class 'pandas.core.frame.DataFrame'>\n",
      "RangeIndex: 200000 entries, 0 to 199999\n",
      "Data columns (total 9 columns):\n",
      " #   Column             Non-Null Count   Dtype  \n",
      "---  ------             --------------   -----  \n",
      " 0   Unnamed: 0         200000 non-null  int64  \n",
      " 1   key                200000 non-null  object \n",
      " 2   fare_amount        200000 non-null  float64\n",
      " 3   pickup_datetime    200000 non-null  object \n",
      " 4   pickup_longitude   200000 non-null  float64\n",
      " 5   pickup_latitude    200000 non-null  float64\n",
      " 6   dropoff_longitude  199999 non-null  float64\n",
      " 7   dropoff_latitude   199999 non-null  float64\n",
      " 8   passenger_count    200000 non-null  int64  \n",
      "dtypes: float64(5), int64(2), object(2)\n",
      "memory usage: 13.7+ MB\n"
     ]
    }
   ],
   "source": [
    "df.info()"
   ]
  },
  {
   "cell_type": "markdown",
   "id": "98c058b7-0fdf-4da1-bf37-1d5b2074de04",
   "metadata": {},
   "source": [
    "###  REMOVING THE MISSING DATA"
   ]
  },
  {
   "cell_type": "code",
   "execution_count": 47,
   "id": "08b5b2d0-4ae6-447b-a6e0-20e4637acffd",
   "metadata": {},
   "outputs": [],
   "source": [
    "def remove_missing_rows(df, columns):\n",
    "    df.columns = df.columns.str.strip()\n",
    "    df_cleaned = df.dropna(subset=columns)   \n",
    "    return df_cleaned\n",
    "    \n",
    "df = remove_missing_rows(df, ['dropoff_longitude', 'dropoff_latitude'])"
   ]
  },
  {
   "cell_type": "code",
   "execution_count": 49,
   "id": "b01ece45-b616-4b44-9e9b-dd4fc409f1fb",
   "metadata": {},
   "outputs": [
    {
     "name": "stdout",
     "output_type": "stream",
     "text": [
      "<class 'pandas.core.frame.DataFrame'>\n",
      "Index: 199999 entries, 0 to 199999\n",
      "Data columns (total 9 columns):\n",
      " #   Column             Non-Null Count   Dtype  \n",
      "---  ------             --------------   -----  \n",
      " 0   Unnamed: 0         199999 non-null  int64  \n",
      " 1   key                199999 non-null  object \n",
      " 2   fare_amount        199999 non-null  float64\n",
      " 3   pickup_datetime    199999 non-null  object \n",
      " 4   pickup_longitude   199999 non-null  float64\n",
      " 5   pickup_latitude    199999 non-null  float64\n",
      " 6   dropoff_longitude  199999 non-null  float64\n",
      " 7   dropoff_latitude   199999 non-null  float64\n",
      " 8   passenger_count    199999 non-null  int64  \n",
      "dtypes: float64(5), int64(2), object(2)\n",
      "memory usage: 15.3+ MB\n"
     ]
    }
   ],
   "source": [
    "df.info()"
   ]
  },
  {
   "cell_type": "markdown",
   "id": "c4217f63-b33c-4f64-bc50-11cd43c727d3",
   "metadata": {},
   "source": [
    "### HANDLING TIME AND DATE"
   ]
  },
  {
   "cell_type": "code",
   "execution_count": 51,
   "id": "bfcbd01a-47e4-4893-b28a-699f25cba581",
   "metadata": {},
   "outputs": [
    {
     "name": "stdout",
     "output_type": "stream",
     "text": [
      "<class 'pandas.core.frame.DataFrame'>\n",
      "Index: 199999 entries, 0 to 199999\n",
      "Data columns (total 9 columns):\n",
      " #   Column             Non-Null Count   Dtype              \n",
      "---  ------             --------------   -----              \n",
      " 0   Unnamed: 0         199999 non-null  int64              \n",
      " 1   key                199999 non-null  object             \n",
      " 2   fare_amount        199999 non-null  float64            \n",
      " 3   pickup_datetime    199999 non-null  datetime64[ns, UTC]\n",
      " 4   pickup_longitude   199999 non-null  float64            \n",
      " 5   pickup_latitude    199999 non-null  float64            \n",
      " 6   dropoff_longitude  199999 non-null  float64            \n",
      " 7   dropoff_latitude   199999 non-null  float64            \n",
      " 8   passenger_count    199999 non-null  int64              \n",
      "dtypes: datetime64[ns, UTC](1), float64(5), int64(2), object(1)\n",
      "memory usage: 15.3+ MB\n"
     ]
    }
   ],
   "source": [
    "df['pickup_datetime']=pd.to_datetime(df['pickup_datetime'],utc=True)\n",
    "df.info()"
   ]
  },
  {
   "cell_type": "code",
   "execution_count": 53,
   "id": "5926d509-a3e0-4abc-8c66-031cc5ffad4e",
   "metadata": {},
   "outputs": [
    {
     "name": "stdout",
     "output_type": "stream",
     "text": [
      "<class 'pandas.core.frame.DataFrame'>\n",
      "Index: 199999 entries, 0 to 199999\n",
      "Data columns (total 15 columns):\n",
      " #   Column             Non-Null Count   Dtype  \n",
      "---  ------             --------------   -----  \n",
      " 0   Unnamed: 0         199999 non-null  int64  \n",
      " 1   key                199999 non-null  object \n",
      " 2   fare_amount        199999 non-null  float64\n",
      " 3   pickup_longitude   199999 non-null  float64\n",
      " 4   pickup_latitude    199999 non-null  float64\n",
      " 5   dropoff_longitude  199999 non-null  float64\n",
      " 6   dropoff_latitude   199999 non-null  float64\n",
      " 7   passenger_count    199999 non-null  int64  \n",
      " 8   month              199999 non-null  int32  \n",
      " 9   year               199999 non-null  int32  \n",
      " 10  date               199999 non-null  int32  \n",
      " 11  hour               199999 non-null  int32  \n",
      " 12  min                199999 non-null  int32  \n",
      " 13  sec                199999 non-null  int32  \n",
      " 14  weekday            199999 non-null  int32  \n",
      "dtypes: float64(5), int32(7), int64(2), object(1)\n",
      "memory usage: 19.1+ MB\n"
     ]
    }
   ],
   "source": [
    "df['month']=df['pickup_datetime'].dt.month\n",
    "df['year']=df['pickup_datetime'].dt.year\n",
    "df['date']=df['pickup_datetime'].dt.day\n",
    "df['hour']=df['pickup_datetime'].dt.hour\n",
    "df['min']=df['pickup_datetime'].dt.minute\n",
    "df['sec']=df['pickup_datetime'].dt.second\n",
    "df['weekday']=df['pickup_datetime'].dt.weekday\n",
    "df=df.drop(['pickup_datetime'],axis=1)\n",
    "df.info()"
   ]
  },
  {
   "cell_type": "markdown",
   "id": "9105f254-c79b-43ce-ad5a-cab78297d616",
   "metadata": {},
   "source": [
    "### CALCULATING THE DISTANCE"
   ]
  },
  {
   "cell_type": "code",
   "execution_count": 55,
   "id": "f1dc1f86-459a-4531-8ac8-24bf82e97bce",
   "metadata": {},
   "outputs": [],
   "source": [
    "def haversine(lat1, lon1, lat2, lon2):\n",
    "    R = 6371  # Earth radius in kilometers\n",
    "\n",
    "    # Convert degrees to radians\n",
    "    lat1 = np.radians(lat1)\n",
    "    lon1 = np.radians(lon1)\n",
    "    lat2 = np.radians(lat2)\n",
    "    lon2 = np.radians(lon2)\n",
    "\n",
    "    # Haversine formula\n",
    "    dlat = lat2 - lat1\n",
    "    dlon = lon2 - lon1\n",
    "    a = np.sin(dlat / 2)**2 + np.cos(lat1) * np.cos(lat2) * np.sin(dlon / 2)**2\n",
    "    c = 2 * np.arctan2(np.sqrt(a), np.sqrt(1 - a))\n",
    "    distance = R * c\n",
    "\n",
    "    return distance\n",
    "\n",
    "# Apply the function to calculate distance for each row\n",
    "df['distance_km'] = haversine(df['pickup_latitude'], df['pickup_longitude'],\n",
    "                              df['dropoff_latitude'], df['dropoff_longitude'])"
   ]
  },
  {
   "cell_type": "markdown",
   "id": "84198801-8e6c-4b43-bcfe-7637f12ffd3c",
   "metadata": {},
   "source": [
    "### REMOVING UNNECESSARY FEATURES"
   ]
  },
  {
   "cell_type": "code",
   "execution_count": 57,
   "id": "c7e152d7-da12-4f23-93a2-871212161c10",
   "metadata": {},
   "outputs": [
    {
     "data": {
      "text/plain": [
       "Unnamed: 0           0.000587\n",
       "fare_amount          1.000000\n",
       "pickup_longitude     0.010458\n",
       "pickup_latitude     -0.008482\n",
       "dropoff_longitude    0.008986\n",
       "dropoff_latitude    -0.011014\n",
       "passenger_count      0.010158\n",
       "month                0.023813\n",
       "year                 0.118331\n",
       "date                 0.001384\n",
       "hour                -0.021463\n",
       "min                 -0.008043\n",
       "sec                 -0.001273\n",
       "weekday              0.007508\n",
       "distance_km          0.024684\n",
       "Name: fare_amount, dtype: float64"
      ]
     },
     "execution_count": 57,
     "metadata": {},
     "output_type": "execute_result"
    }
   ],
   "source": [
    "\n",
    "df=df.drop(['key'],axis=1)\n",
    "corr_matrix = df.corr()\n",
    "fare_amount_corr = corr_matrix['fare_amount']\n",
    "fare_amount_corr "
   ]
  },
  {
   "cell_type": "code",
   "execution_count": 59,
   "id": "1c467340-c73e-434b-834b-3fac5fc57d27",
   "metadata": {},
   "outputs": [
    {
     "name": "stdout",
     "output_type": "stream",
     "text": [
      "<class 'pandas.core.frame.DataFrame'>\n",
      "Index: 199999 entries, 0 to 199999\n",
      "Data columns (total 12 columns):\n",
      " #   Column             Non-Null Count   Dtype  \n",
      "---  ------             --------------   -----  \n",
      " 0   fare_amount        199999 non-null  float64\n",
      " 1   pickup_longitude   199999 non-null  float64\n",
      " 2   pickup_latitude    199999 non-null  float64\n",
      " 3   dropoff_longitude  199999 non-null  float64\n",
      " 4   dropoff_latitude   199999 non-null  float64\n",
      " 5   passenger_count    199999 non-null  int64  \n",
      " 6   month              199999 non-null  int32  \n",
      " 7   year               199999 non-null  int32  \n",
      " 8   hour               199999 non-null  int32  \n",
      " 9   min                199999 non-null  int32  \n",
      " 10  weekday            199999 non-null  int32  \n",
      " 11  distance_km        199999 non-null  float64\n",
      "dtypes: float64(6), int32(5), int64(1)\n",
      "memory usage: 16.0 MB\n"
     ]
    }
   ],
   "source": [
    "df=df.drop(['Unnamed: 0'],axis=1)\n",
    "df=df.drop(['date'],axis=1)\n",
    "df=df.drop(['sec'],axis=1)\n",
    "df.info()"
   ]
  },
  {
   "cell_type": "markdown",
   "id": "17c11d9a-f8b3-4957-93f6-35e802616faf",
   "metadata": {},
   "source": [
    "### EDA"
   ]
  },
  {
   "cell_type": "code",
   "execution_count": 61,
   "id": "cbfd657f-81fc-4b79-b5f9-bbda9a0ef0a9",
   "metadata": {},
   "outputs": [
    {
     "data": {
      "text/plain": [
       "fare_amount           4.504900\n",
       "pickup_longitude     -7.495874\n",
       "pickup_latitude      62.976706\n",
       "dropoff_longitude   -71.505102\n",
       "dropoff_latitude     -8.031012\n",
       "passenger_count      18.145667\n",
       "month                 0.109273\n",
       "year                  0.063026\n",
       "hour                 -0.433747\n",
       "min                  -0.002585\n",
       "weekday              -0.039968\n",
       "distance_km          22.198177\n",
       "dtype: float64"
      ]
     },
     "execution_count": 61,
     "metadata": {},
     "output_type": "execute_result"
    }
   ],
   "source": [
    "import seaborn as sns\n",
    "df.skew()"
   ]
  },
  {
   "cell_type": "code",
   "execution_count": 63,
   "id": "81a20900-bdc5-471b-bb11-35d0fe4eb5ad",
   "metadata": {},
   "outputs": [
    {
     "data": {
      "text/plain": [
       "<Axes: ylabel='pickup_longitude'>"
      ]
     },
     "execution_count": 63,
     "metadata": {},
     "output_type": "execute_result"
    },
    {
     "data": {
      "image/png": "[encoded data removed]",
      "text/plain": [
       "<Figure size 640x480 with 1 Axes>"
      ]
     },
     "metadata": {},
     "output_type": "display_data"
    }
   ],
   "source": [
    "sns.boxplot(df['pickup_longitude'])"
   ]
  },
  {
   "cell_type": "code",
   "execution_count": 233,
   "id": "8621def8-c378-4af7-91b7-12413751d949",
   "metadata": {},
   "outputs": [
    {
     "data": {
      "text/plain": [
       "<Axes: ylabel='pickup_latitude'>"
      ]
     },
     "execution_count": 233,
     "metadata": {},
     "output_type": "execute_result"
    },
    {
     "data": {
      "image/png": "[encoded data removed]",
      "text/plain": [
       "<Figure size 640x480 with 1 Axes>"
      ]
     },
     "metadata": {},
     "output_type": "display_data"
    }
   ],
   "source": [
    "sns.boxplot(df['pickup_latitude'])"
   ]
  },
  {
   "cell_type": "code",
   "execution_count": 92,
   "id": "8158f93a-c027-41a6-92a1-ab20667e3152",
   "metadata": {},
   "outputs": [
    {
     "data": {
      "text/plain": [
       "<Axes: ylabel='passenger_count'>"
      ]
     },
     "execution_count": 92,
     "metadata": {},
     "output_type": "execute_result"
    },
    {
     "data": {
      "image/png": "[encoded data removed]",
      "text/plain": [
       "<Figure size 640x480 with 1 Axes>"
      ]
     },
     "metadata": {},
     "output_type": "display_data"
    }
   ],
   "source": [
    "sns.boxplot(df['passenger_count'])"
   ]
  },
  {
   "cell_type": "code",
   "execution_count": 94,
   "id": "9fcdd803-a188-44d4-8e4b-b2997bd0fcf3",
   "metadata": {},
   "outputs": [
    {
     "data": {
      "text/plain": [
       "<Axes: ylabel='dropoff_longitude'>"
      ]
     },
     "execution_count": 94,
     "metadata": {},
     "output_type": "execute_result"
    },
    {
     "data": {
      "image/png": "[encoded data removed]",
      "text/plain": [
       "<Figure size 640x480 with 1 Axes>"
      ]
     },
     "metadata": {},
     "output_type": "display_data"
    }
   ],
   "source": [
    "sns.boxplot(df['dropoff_longitude'])"
   ]
  },
  {
   "cell_type": "code",
   "execution_count": 179,
   "id": "1b0830a3-9afb-458f-b921-a444ed197c19",
   "metadata": {},
   "outputs": [
    {
     "data": {
      "text/plain": [
       "<Axes: ylabel='distance_km'>"
      ]
     },
     "execution_count": 179,
     "metadata": {},
     "output_type": "execute_result"
    },
    {
     "data": {
      "image/png": "[encoded data removed]",
      "text/plain": [
       "<Figure size 640x480 with 1 Axes>"
      ]
     },
     "metadata": {},
     "output_type": "display_data"
    }
   ],
   "source": [
    "sns.boxplot(df['distance_km'])"
   ]
  },
  {
   "cell_type": "markdown",
   "id": "83f100cc-7db8-4f65-966c-a32056ad9cc8",
   "metadata": {},
   "source": [
    "### REMOVING OULIERS OF SKEWED DISTRIBUTED COLUMNS"
   ]
  },
  {
   "cell_type": "code",
   "execution_count": 65,
   "id": "8974dd7b-1ef4-40b2-b592-a176bd9b69f4",
   "metadata": {},
   "outputs": [],
   "source": [
    "for col in df:\n",
    "    if col!='fare_amount':\n",
    "       # print(col)\n",
    "        per75=df[col].quantile(0.75)\n",
    "        per25=df[col].quantile(0.25)\n",
    "        iqr=per75-per25\n",
    "        ul=per75+1.5*iqr\n",
    "        ll=per25-1.5*iqr\n",
    "\n",
    "        df[col]=np.where( \n",
    "            df[col]>ul,\n",
    "            ul,\n",
    "            np.where(\n",
    "                df[col]<ll,\n",
    "                ll,\n",
    "                df[col]  ))\n",
    "\n",
    "   \n",
    "       "
   ]
  },
  {
   "cell_type": "code",
   "execution_count": 67,
   "id": "a3e7dadb-d25d-4dae-82e2-4344d32a4be4",
   "metadata": {},
   "outputs": [
    {
     "data": {
      "text/plain": [
       "fare_amount          4.504900\n",
       "pickup_longitude     0.705148\n",
       "pickup_latitude     -0.438014\n",
       "dropoff_longitude    0.733910\n",
       "dropoff_latitude    -0.354558\n",
       "passenger_count      1.393353\n",
       "month                0.109273\n",
       "year                 0.063026\n",
       "hour                -0.433747\n",
       "min                 -0.002585\n",
       "weekday             -0.039968\n",
       "distance_km          1.051504\n",
       "dtype: float64"
      ]
     },
     "execution_count": 67,
     "metadata": {},
     "output_type": "execute_result"
    }
   ],
   "source": [
    "df.skew()"
   ]
  },
  {
   "cell_type": "code",
   "execution_count": 27,
   "id": "1b44ba1d-0f74-4e52-844a-807fdef57eb0",
   "metadata": {},
   "outputs": [
    {
     "data": {
      "text/plain": [
       "<Axes: ylabel='pickup_longitude'>"
      ]
     },
     "execution_count": 27,
     "metadata": {},
     "output_type": "execute_result"
    },
    {
     "data": {
      "image/png": "[encoded data removed]",
      "text/plain": [
       "<Figure size 640x480 with 1 Axes>"
      ]
     },
     "metadata": {},
     "output_type": "display_data"
    }
   ],
   "source": [
    "sns.boxplot(df['pickup_longitude'])"
   ]
  },
  {
   "cell_type": "code",
   "execution_count": 104,
   "id": "561ebeaf-38b8-478f-80ee-ece0692d0fc9",
   "metadata": {},
   "outputs": [
    {
     "data": {
      "text/plain": [
       "<Axes: ylabel='pickup_latitude'>"
      ]
     },
     "execution_count": 104,
     "metadata": {},
     "output_type": "execute_result"
    },
    {
     "data": {
      "image/png": "[encoded data removed]",
      "text/plain": [
       "<Figure size 640x480 with 1 Axes>"
      ]
     },
     "metadata": {},
     "output_type": "display_data"
    }
   ],
   "source": [
    "sns.boxplot(df['pickup_latitude'])"
   ]
  },
  {
   "cell_type": "code",
   "execution_count": 106,
   "id": "cb2dc312-3207-4eec-886c-1ddcbed6a202",
   "metadata": {},
   "outputs": [
    {
     "data": {
      "text/plain": [
       "<Axes: ylabel='passenger_count'>"
      ]
     },
     "execution_count": 106,
     "metadata": {},
     "output_type": "execute_result"
    },
    {
     "data": {
      "image/png": "[encoded data removed]",
      "text/plain": [
       "<Figure size 640x480 with 1 Axes>"
      ]
     },
     "metadata": {},
     "output_type": "display_data"
    }
   ],
   "source": [
    "sns.boxplot(df['passenger_count'])"
   ]
  },
  {
   "cell_type": "code",
   "execution_count": 108,
   "id": "bbb40bdc-caf5-4e26-9cb3-f28217ab3968",
   "metadata": {},
   "outputs": [
    {
     "data": {
      "text/plain": [
       "<Axes: ylabel='dropoff_longitude'>"
      ]
     },
     "execution_count": 108,
     "metadata": {},
     "output_type": "execute_result"
    },
    {
     "data": {
      "image/png": "[encoded data removed]",
      "text/plain": [
       "<Figure size 640x480 with 1 Axes>"
      ]
     },
     "metadata": {},
     "output_type": "display_data"
    }
   ],
   "source": [
    "sns.boxplot(df['dropoff_longitude'])"
   ]
  },
  {
   "cell_type": "code",
   "execution_count": 110,
   "id": "be748be9-772b-4ae0-be61-fe9a8d2457b7",
   "metadata": {},
   "outputs": [
    {
     "data": {
      "text/plain": [
       "<Axes: ylabel='distance_km'>"
      ]
     },
     "execution_count": 110,
     "metadata": {},
     "output_type": "execute_result"
    },
    {
     "data": {
      "image/png": "[encoded data removed]",
      "text/plain": [
       "<Figure size 640x480 with 1 Axes>"
      ]
     },
     "metadata": {},
     "output_type": "display_data"
    }
   ],
   "source": [
    "sns.boxplot(df['distance_km'])"
   ]
  },
  {
   "cell_type": "code",
   "execution_count": 69,
   "id": "b8aaafdc-e7b5-4381-9f44-c499ada69663",
   "metadata": {},
   "outputs": [
    {
     "data": {
      "text/html": [
       "<div>\n",
       "<style scoped>\n",
       "    .dataframe tbody tr th:only-of-type {\n",
       "        vertical-align: middle;\n",
       "    }\n",
       "\n",
       "    .dataframe tbody tr th {\n",
       "        vertical-align: top;\n",
       "    }\n",
       "\n",
       "    .dataframe thead th {\n",
       "        text-align: right;\n",
       "    }\n",
       "</style>\n",
       "<table border=\"1\" class=\"dataframe\">\n",
       "  <thead>\n",
       "    <tr style=\"text-align: right;\">\n",
       "      <th></th>\n",
       "      <th>fare_amount</th>\n",
       "      <th>pickup_longitude</th>\n",
       "      <th>pickup_latitude</th>\n",
       "      <th>dropoff_longitude</th>\n",
       "      <th>dropoff_latitude</th>\n",
       "      <th>passenger_count</th>\n",
       "      <th>month</th>\n",
       "      <th>year</th>\n",
       "      <th>hour</th>\n",
       "      <th>min</th>\n",
       "      <th>weekday</th>\n",
       "      <th>distance_km</th>\n",
       "    </tr>\n",
       "  </thead>\n",
       "  <tbody>\n",
       "    <tr>\n",
       "      <th>0</th>\n",
       "      <td>7.5</td>\n",
       "      <td>-73.999817</td>\n",
       "      <td>40.738354</td>\n",
       "      <td>-73.999512</td>\n",
       "      <td>40.723217</td>\n",
       "      <td>1.0</td>\n",
       "      <td>5.0</td>\n",
       "      <td>2015.0</td>\n",
       "      <td>19.0</td>\n",
       "      <td>52.0</td>\n",
       "      <td>3.0</td>\n",
       "      <td>1.683323</td>\n",
       "    </tr>\n",
       "    <tr>\n",
       "      <th>1</th>\n",
       "      <td>7.7</td>\n",
       "      <td>-73.994355</td>\n",
       "      <td>40.728225</td>\n",
       "      <td>-73.994710</td>\n",
       "      <td>40.750325</td>\n",
       "      <td>1.0</td>\n",
       "      <td>7.0</td>\n",
       "      <td>2009.0</td>\n",
       "      <td>20.0</td>\n",
       "      <td>4.0</td>\n",
       "      <td>4.0</td>\n",
       "      <td>2.457590</td>\n",
       "    </tr>\n",
       "    <tr>\n",
       "      <th>2</th>\n",
       "      <td>12.9</td>\n",
       "      <td>-74.005043</td>\n",
       "      <td>40.740770</td>\n",
       "      <td>-73.962565</td>\n",
       "      <td>40.772647</td>\n",
       "      <td>1.0</td>\n",
       "      <td>8.0</td>\n",
       "      <td>2009.0</td>\n",
       "      <td>21.0</td>\n",
       "      <td>45.0</td>\n",
       "      <td>0.0</td>\n",
       "      <td>5.036377</td>\n",
       "    </tr>\n",
       "    <tr>\n",
       "      <th>3</th>\n",
       "      <td>5.3</td>\n",
       "      <td>-73.976124</td>\n",
       "      <td>40.790844</td>\n",
       "      <td>-73.965316</td>\n",
       "      <td>40.803349</td>\n",
       "      <td>3.0</td>\n",
       "      <td>6.0</td>\n",
       "      <td>2009.0</td>\n",
       "      <td>8.0</td>\n",
       "      <td>22.0</td>\n",
       "      <td>4.0</td>\n",
       "      <td>1.661683</td>\n",
       "    </tr>\n",
       "    <tr>\n",
       "      <th>4</th>\n",
       "      <td>16.0</td>\n",
       "      <td>-73.929787</td>\n",
       "      <td>40.744085</td>\n",
       "      <td>-73.973082</td>\n",
       "      <td>40.761247</td>\n",
       "      <td>3.5</td>\n",
       "      <td>8.0</td>\n",
       "      <td>2014.0</td>\n",
       "      <td>17.0</td>\n",
       "      <td>47.0</td>\n",
       "      <td>3.0</td>\n",
       "      <td>4.475450</td>\n",
       "    </tr>\n",
       "    <tr>\n",
       "      <th>...</th>\n",
       "      <td>...</td>\n",
       "      <td>...</td>\n",
       "      <td>...</td>\n",
       "      <td>...</td>\n",
       "      <td>...</td>\n",
       "      <td>...</td>\n",
       "      <td>...</td>\n",
       "      <td>...</td>\n",
       "      <td>...</td>\n",
       "      <td>...</td>\n",
       "      <td>...</td>\n",
       "      <td>...</td>\n",
       "    </tr>\n",
       "    <tr>\n",
       "      <th>199995</th>\n",
       "      <td>3.0</td>\n",
       "      <td>-73.987042</td>\n",
       "      <td>40.739367</td>\n",
       "      <td>-73.986525</td>\n",
       "      <td>40.740297</td>\n",
       "      <td>1.0</td>\n",
       "      <td>10.0</td>\n",
       "      <td>2012.0</td>\n",
       "      <td>10.0</td>\n",
       "      <td>49.0</td>\n",
       "      <td>6.0</td>\n",
       "      <td>0.112210</td>\n",
       "    </tr>\n",
       "    <tr>\n",
       "      <th>199996</th>\n",
       "      <td>7.5</td>\n",
       "      <td>-73.984722</td>\n",
       "      <td>40.736837</td>\n",
       "      <td>-74.006672</td>\n",
       "      <td>40.739620</td>\n",
       "      <td>1.0</td>\n",
       "      <td>3.0</td>\n",
       "      <td>2014.0</td>\n",
       "      <td>1.0</td>\n",
       "      <td>9.0</td>\n",
       "      <td>4.0</td>\n",
       "      <td>1.875050</td>\n",
       "    </tr>\n",
       "    <tr>\n",
       "      <th>199997</th>\n",
       "      <td>30.9</td>\n",
       "      <td>-73.986017</td>\n",
       "      <td>40.756487</td>\n",
       "      <td>-73.922036</td>\n",
       "      <td>40.692588</td>\n",
       "      <td>2.0</td>\n",
       "      <td>6.0</td>\n",
       "      <td>2009.0</td>\n",
       "      <td>0.0</td>\n",
       "      <td>42.0</td>\n",
       "      <td>0.0</td>\n",
       "      <td>7.865091</td>\n",
       "    </tr>\n",
       "    <tr>\n",
       "      <th>199998</th>\n",
       "      <td>14.5</td>\n",
       "      <td>-73.997124</td>\n",
       "      <td>40.725452</td>\n",
       "      <td>-73.983215</td>\n",
       "      <td>40.695416</td>\n",
       "      <td>1.0</td>\n",
       "      <td>5.0</td>\n",
       "      <td>2015.0</td>\n",
       "      <td>14.0</td>\n",
       "      <td>56.0</td>\n",
       "      <td>2.0</td>\n",
       "      <td>3.539715</td>\n",
       "    </tr>\n",
       "    <tr>\n",
       "      <th>199999</th>\n",
       "      <td>14.1</td>\n",
       "      <td>-73.984395</td>\n",
       "      <td>40.720077</td>\n",
       "      <td>-73.985508</td>\n",
       "      <td>40.768793</td>\n",
       "      <td>1.0</td>\n",
       "      <td>5.0</td>\n",
       "      <td>2010.0</td>\n",
       "      <td>4.0</td>\n",
       "      <td>8.0</td>\n",
       "      <td>5.0</td>\n",
       "      <td>5.417783</td>\n",
       "    </tr>\n",
       "  </tbody>\n",
       "</table>\n",
       "<p>199999 rows × 12 columns</p>\n",
       "</div>"
      ],
      "text/plain": [
       "        fare_amount  pickup_longitude  pickup_latitude  dropoff_longitude  \\\n",
       "0               7.5        -73.999817        40.738354         -73.999512   \n",
       "1               7.7        -73.994355        40.728225         -73.994710   \n",
       "2              12.9        -74.005043        40.740770         -73.962565   \n",
       "3               5.3        -73.976124        40.790844         -73.965316   \n",
       "4              16.0        -73.929787        40.744085         -73.973082   \n",
       "...             ...               ...              ...                ...   \n",
       "199995          3.0        -73.987042        40.739367         -73.986525   \n",
       "199996          7.5        -73.984722        40.736837         -74.006672   \n",
       "199997         30.9        -73.986017        40.756487         -73.922036   \n",
       "199998         14.5        -73.997124        40.725452         -73.983215   \n",
       "199999         14.1        -73.984395        40.720077         -73.985508   \n",
       "\n",
       "        dropoff_latitude  passenger_count  month    year  hour   min  weekday  \\\n",
       "0              40.723217              1.0    5.0  2015.0  19.0  52.0      3.0   \n",
       "1              40.750325              1.0    7.0  2009.0  20.0   4.0      4.0   \n",
       "2              40.772647              1.0    8.0  2009.0  21.0  45.0      0.0   \n",
       "3              40.803349              3.0    6.0  2009.0   8.0  22.0      4.0   \n",
       "4              40.761247              3.5    8.0  2014.0  17.0  47.0      3.0   \n",
       "...                  ...              ...    ...     ...   ...   ...      ...   \n",
       "199995         40.740297              1.0   10.0  2012.0  10.0  49.0      6.0   \n",
       "199996         40.739620              1.0    3.0  2014.0   1.0   9.0      4.0   \n",
       "199997         40.692588              2.0    6.0  2009.0   0.0  42.0      0.0   \n",
       "199998         40.695416              1.0    5.0  2015.0  14.0  56.0      2.0   \n",
       "199999         40.768793              1.0    5.0  2010.0   4.0   8.0      5.0   \n",
       "\n",
       "        distance_km  \n",
       "0          1.683323  \n",
       "1          2.457590  \n",
       "2          5.036377  \n",
       "3          1.661683  \n",
       "4          4.475450  \n",
       "...             ...  \n",
       "199995     0.112210  \n",
       "199996     1.875050  \n",
       "199997     7.865091  \n",
       "199998     3.539715  \n",
       "199999     5.417783  \n",
       "\n",
       "[199999 rows x 12 columns]"
      ]
     },
     "execution_count": 69,
     "metadata": {},
     "output_type": "execute_result"
    }
   ],
   "source": [
    "df"
   ]
  },
  {
   "cell_type": "code",
   "execution_count": 71,
   "id": "9b7e9179-10f7-44a7-8ce2-1ca3865a7254",
   "metadata": {},
   "outputs": [
    {
     "data": {
      "text/plain": [
       "0          7.5\n",
       "1          7.7\n",
       "2         12.9\n",
       "3          5.3\n",
       "4         16.0\n",
       "          ... \n",
       "199995     3.0\n",
       "199996     7.5\n",
       "199997    30.9\n",
       "199998    14.5\n",
       "199999    14.1\n",
       "Name: fare_amount, Length: 199999, dtype: float64"
      ]
     },
     "execution_count": 71,
     "metadata": {},
     "output_type": "execute_result"
    }
   ],
   "source": [
    "x=df['fare_amount']\n",
    "x"
   ]
  },
  {
   "cell_type": "code",
   "execution_count": 73,
   "id": "abd23258-8049-4f30-8ca4-b2445cbc2acd",
   "metadata": {},
   "outputs": [
    {
     "data": {
      "text/html": [
       "<div>\n",
       "<style scoped>\n",
       "    .dataframe tbody tr th:only-of-type {\n",
       "        vertical-align: middle;\n",
       "    }\n",
       "\n",
       "    .dataframe tbody tr th {\n",
       "        vertical-align: top;\n",
       "    }\n",
       "\n",
       "    .dataframe thead th {\n",
       "        text-align: right;\n",
       "    }\n",
       "</style>\n",
       "<table border=\"1\" class=\"dataframe\">\n",
       "  <thead>\n",
       "    <tr style=\"text-align: right;\">\n",
       "      <th></th>\n",
       "      <th>pickup_longitude</th>\n",
       "      <th>pickup_latitude</th>\n",
       "      <th>dropoff_longitude</th>\n",
       "      <th>dropoff_latitude</th>\n",
       "      <th>passenger_count</th>\n",
       "      <th>month</th>\n",
       "      <th>year</th>\n",
       "      <th>hour</th>\n",
       "      <th>min</th>\n",
       "      <th>weekday</th>\n",
       "      <th>distance_km</th>\n",
       "    </tr>\n",
       "  </thead>\n",
       "  <tbody>\n",
       "    <tr>\n",
       "      <th>0</th>\n",
       "      <td>-73.999817</td>\n",
       "      <td>40.738354</td>\n",
       "      <td>-73.999512</td>\n",
       "      <td>40.723217</td>\n",
       "      <td>1.0</td>\n",
       "      <td>5.0</td>\n",
       "      <td>2015.0</td>\n",
       "      <td>19.0</td>\n",
       "      <td>52.0</td>\n",
       "      <td>3.0</td>\n",
       "      <td>1.683323</td>\n",
       "    </tr>\n",
       "    <tr>\n",
       "      <th>1</th>\n",
       "      <td>-73.994355</td>\n",
       "      <td>40.728225</td>\n",
       "      <td>-73.994710</td>\n",
       "      <td>40.750325</td>\n",
       "      <td>1.0</td>\n",
       "      <td>7.0</td>\n",
       "      <td>2009.0</td>\n",
       "      <td>20.0</td>\n",
       "      <td>4.0</td>\n",
       "      <td>4.0</td>\n",
       "      <td>2.457590</td>\n",
       "    </tr>\n",
       "    <tr>\n",
       "      <th>2</th>\n",
       "      <td>-74.005043</td>\n",
       "      <td>40.740770</td>\n",
       "      <td>-73.962565</td>\n",
       "      <td>40.772647</td>\n",
       "      <td>1.0</td>\n",
       "      <td>8.0</td>\n",
       "      <td>2009.0</td>\n",
       "      <td>21.0</td>\n",
       "      <td>45.0</td>\n",
       "      <td>0.0</td>\n",
       "      <td>5.036377</td>\n",
       "    </tr>\n",
       "    <tr>\n",
       "      <th>3</th>\n",
       "      <td>-73.976124</td>\n",
       "      <td>40.790844</td>\n",
       "      <td>-73.965316</td>\n",
       "      <td>40.803349</td>\n",
       "      <td>3.0</td>\n",
       "      <td>6.0</td>\n",
       "      <td>2009.0</td>\n",
       "      <td>8.0</td>\n",
       "      <td>22.0</td>\n",
       "      <td>4.0</td>\n",
       "      <td>1.661683</td>\n",
       "    </tr>\n",
       "    <tr>\n",
       "      <th>4</th>\n",
       "      <td>-73.929787</td>\n",
       "      <td>40.744085</td>\n",
       "      <td>-73.973082</td>\n",
       "      <td>40.761247</td>\n",
       "      <td>3.5</td>\n",
       "      <td>8.0</td>\n",
       "      <td>2014.0</td>\n",
       "      <td>17.0</td>\n",
       "      <td>47.0</td>\n",
       "      <td>3.0</td>\n",
       "      <td>4.475450</td>\n",
       "    </tr>\n",
       "    <tr>\n",
       "      <th>...</th>\n",
       "      <td>...</td>\n",
       "      <td>...</td>\n",
       "      <td>...</td>\n",
       "      <td>...</td>\n",
       "      <td>...</td>\n",
       "      <td>...</td>\n",
       "      <td>...</td>\n",
       "      <td>...</td>\n",
       "      <td>...</td>\n",
       "      <td>...</td>\n",
       "      <td>...</td>\n",
       "    </tr>\n",
       "    <tr>\n",
       "      <th>199995</th>\n",
       "      <td>-73.987042</td>\n",
       "      <td>40.739367</td>\n",
       "      <td>-73.986525</td>\n",
       "      <td>40.740297</td>\n",
       "      <td>1.0</td>\n",
       "      <td>10.0</td>\n",
       "      <td>2012.0</td>\n",
       "      <td>10.0</td>\n",
       "      <td>49.0</td>\n",
       "      <td>6.0</td>\n",
       "      <td>0.112210</td>\n",
       "    </tr>\n",
       "    <tr>\n",
       "      <th>199996</th>\n",
       "      <td>-73.984722</td>\n",
       "      <td>40.736837</td>\n",
       "      <td>-74.006672</td>\n",
       "      <td>40.739620</td>\n",
       "      <td>1.0</td>\n",
       "      <td>3.0</td>\n",
       "      <td>2014.0</td>\n",
       "      <td>1.0</td>\n",
       "      <td>9.0</td>\n",
       "      <td>4.0</td>\n",
       "      <td>1.875050</td>\n",
       "    </tr>\n",
       "    <tr>\n",
       "      <th>199997</th>\n",
       "      <td>-73.986017</td>\n",
       "      <td>40.756487</td>\n",
       "      <td>-73.922036</td>\n",
       "      <td>40.692588</td>\n",
       "      <td>2.0</td>\n",
       "      <td>6.0</td>\n",
       "      <td>2009.0</td>\n",
       "      <td>0.0</td>\n",
       "      <td>42.0</td>\n",
       "      <td>0.0</td>\n",
       "      <td>7.865091</td>\n",
       "    </tr>\n",
       "    <tr>\n",
       "      <th>199998</th>\n",
       "      <td>-73.997124</td>\n",
       "      <td>40.725452</td>\n",
       "      <td>-73.983215</td>\n",
       "      <td>40.695416</td>\n",
       "      <td>1.0</td>\n",
       "      <td>5.0</td>\n",
       "      <td>2015.0</td>\n",
       "      <td>14.0</td>\n",
       "      <td>56.0</td>\n",
       "      <td>2.0</td>\n",
       "      <td>3.539715</td>\n",
       "    </tr>\n",
       "    <tr>\n",
       "      <th>199999</th>\n",
       "      <td>-73.984395</td>\n",
       "      <td>40.720077</td>\n",
       "      <td>-73.985508</td>\n",
       "      <td>40.768793</td>\n",
       "      <td>1.0</td>\n",
       "      <td>5.0</td>\n",
       "      <td>2010.0</td>\n",
       "      <td>4.0</td>\n",
       "      <td>8.0</td>\n",
       "      <td>5.0</td>\n",
       "      <td>5.417783</td>\n",
       "    </tr>\n",
       "  </tbody>\n",
       "</table>\n",
       "<p>199999 rows × 11 columns</p>\n",
       "</div>"
      ],
      "text/plain": [
       "        pickup_longitude  pickup_latitude  dropoff_longitude  \\\n",
       "0             -73.999817        40.738354         -73.999512   \n",
       "1             -73.994355        40.728225         -73.994710   \n",
       "2             -74.005043        40.740770         -73.962565   \n",
       "3             -73.976124        40.790844         -73.965316   \n",
       "4             -73.929787        40.744085         -73.973082   \n",
       "...                  ...              ...                ...   \n",
       "199995        -73.987042        40.739367         -73.986525   \n",
       "199996        -73.984722        40.736837         -74.006672   \n",
       "199997        -73.986017        40.756487         -73.922036   \n",
       "199998        -73.997124        40.725452         -73.983215   \n",
       "199999        -73.984395        40.720077         -73.985508   \n",
       "\n",
       "        dropoff_latitude  passenger_count  month    year  hour   min  weekday  \\\n",
       "0              40.723217              1.0    5.0  2015.0  19.0  52.0      3.0   \n",
       "1              40.750325              1.0    7.0  2009.0  20.0   4.0      4.0   \n",
       "2              40.772647              1.0    8.0  2009.0  21.0  45.0      0.0   \n",
       "3              40.803349              3.0    6.0  2009.0   8.0  22.0      4.0   \n",
       "4              40.761247              3.5    8.0  2014.0  17.0  47.0      3.0   \n",
       "...                  ...              ...    ...     ...   ...   ...      ...   \n",
       "199995         40.740297              1.0   10.0  2012.0  10.0  49.0      6.0   \n",
       "199996         40.739620              1.0    3.0  2014.0   1.0   9.0      4.0   \n",
       "199997         40.692588              2.0    6.0  2009.0   0.0  42.0      0.0   \n",
       "199998         40.695416              1.0    5.0  2015.0  14.0  56.0      2.0   \n",
       "199999         40.768793              1.0    5.0  2010.0   4.0   8.0      5.0   \n",
       "\n",
       "        distance_km  \n",
       "0          1.683323  \n",
       "1          2.457590  \n",
       "2          5.036377  \n",
       "3          1.661683  \n",
       "4          4.475450  \n",
       "...             ...  \n",
       "199995     0.112210  \n",
       "199996     1.875050  \n",
       "199997     7.865091  \n",
       "199998     3.539715  \n",
       "199999     5.417783  \n",
       "\n",
       "[199999 rows x 11 columns]"
      ]
     },
     "execution_count": 73,
     "metadata": {},
     "output_type": "execute_result"
    }
   ],
   "source": [
    "y=df.drop(['fare_amount'],axis=1)\n",
    "y"
   ]
  },
  {
   "cell_type": "markdown",
   "id": "673cf2b9-b6e0-48ec-a9fd-166010033a9e",
   "metadata": {},
   "source": [
    "### TRAIN TEST SPLIT"
   ]
  },
  {
   "cell_type": "code",
   "execution_count": 75,
   "id": "6b63d528-7fb2-4d14-a7f4-a034ace60de6",
   "metadata": {},
   "outputs": [
    {
     "data": {
      "text/plain": [
       "((179999, 11), (20000, 11))"
      ]
     },
     "execution_count": 75,
     "metadata": {},
     "output_type": "execute_result"
    }
   ],
   "source": [
    "from sklearn.model_selection import train_test_split\n",
    "X_train, X_test, y_train, y_test = train_test_split(y,x,test_size=0.1)\n",
    "\n",
    "X_train.shape, X_test.shape"
   ]
  },
  {
   "cell_type": "markdown",
   "id": "266553a1-a052-4c4f-8597-b33c818810de",
   "metadata": {},
   "source": [
    "### SCALING"
   ]
  },
  {
   "cell_type": "code",
   "execution_count": 77,
   "id": "059bfe91-a3a1-43c2-91fe-60ba1e01e403",
   "metadata": {},
   "outputs": [
    {
     "name": "stdout",
     "output_type": "stream",
     "text": [
      "              0         1         2         3         4         5         6   \\\n",
      "0       0.344685  0.044381  0.336401  0.626632  0.554334  1.372576 -0.937991   \n",
      "1       0.484891  0.347182  1.348846  0.994482 -0.586376  1.372576 -1.476592   \n",
      "2      -1.233792 -1.428427 -0.382562  0.754783 -0.586376 -0.662960  0.139211   \n",
      "3      -0.644696 -0.198320 -0.252485 -0.139728 -0.586376 -0.372169  0.139211   \n",
      "4      -1.059413 -0.279662 -0.530592  0.430219  2.265400 -0.372169 -0.399390   \n",
      "...          ...       ...       ...       ...       ...       ...       ...   \n",
      "179994  1.020410  0.462121  0.191691  0.244829 -0.586376 -1.244542  0.139211   \n",
      "179995  0.093087 -0.893059 -0.725664 -0.393066 -0.586376  0.209413  1.216414   \n",
      "179996  0.472606  1.910764 -0.769387 -0.388182 -0.586376  0.500204  0.139211   \n",
      "179997 -0.505125 -0.514178 -0.265545 -0.157866 -0.586376  0.500204 -0.937991   \n",
      "179998  1.364097  1.150078  0.248038  0.406326 -0.586376  0.209413 -0.937991   \n",
      "\n",
      "              7         8         9         10  \n",
      "0       0.690798  0.660126  0.489723 -0.439243  \n",
      "1      -1.916996 -0.782044  0.489723  0.025834  \n",
      "2       0.690798 -0.608983 -0.024012  1.711294  \n",
      "3      -0.689799  0.429379 -1.051481 -0.918411  \n",
      "4       0.997597  0.083258 -0.024012 -0.215532  \n",
      "...          ...       ...       ...       ...  \n",
      "179994 -0.996598  0.083258 -0.024012 -0.684260  \n",
      "179995 -1.149997  1.583114 -0.537746 -0.433786  \n",
      "179996 -1.763596 -0.205176  0.489723  1.874120  \n",
      "179997  0.537399 -0.551297 -1.051481 -0.790176  \n",
      "179998  0.383999  0.429379  1.003458 -0.105566  \n",
      "\n",
      "[179999 rows x 11 columns]\n"
     ]
    }
   ],
   "source": [
    "from sklearn.preprocessing import StandardScaler\n",
    "\n",
    "scaler = StandardScaler()\n",
    "scaler.fit(X_train)\n",
    "\n",
    "X_train = scaler.transform(X_train)\n",
    "X_test = scaler.transform(X_test)\n",
    "print(pd.DataFrame(X_train))"
   ]
  },
  {
   "cell_type": "markdown",
   "id": "6b7a66f0-b7a9-4f96-acac-97781c1ce160",
   "metadata": {},
   "source": [
    "### KNN"
   ]
  },
  {
   "cell_type": "code",
   "execution_count": 81,
   "id": "e557cfa3-564f-4af3-bbad-0db336d9ba41",
   "metadata": {},
   "outputs": [
    {
     "data": {
      "text/plain": [
       "[<matplotlib.lines.Line2D at 0x26f661a7aa0>]"
      ]
     },
     "execution_count": 81,
     "metadata": {},
     "output_type": "execute_result"
    },
    {
     "data": {
      "image/png": "[encoded data removed]",
      "text/plain": [
       "<Figure size 640x480 with 1 Axes>"
      ]
     },
     "metadata": {},
     "output_type": "display_data"
    }
   ],
   "source": [
    "from sklearn.neighbors import KNeighborsRegressor\n",
    "from sklearn.metrics import r2_score\n",
    "\n",
    "scores=[]\n",
    "for i in range(18,25):\n",
    "      knn=KNeighborsRegressor(n_neighbors=i)\n",
    "      knn.fit(X_train,y_train)\n",
    "      y_pred=knn.predict(X_test)\n",
    "      scores.append(r2_score(y_test,y_pred))\n",
    "\n",
    "  # print(scores)\n",
    "import matplotlib.pyplot as plt\n",
    "plt.plot(range(18,25),scores)\n",
    "\n"
   ]
  },
  {
   "cell_type": "code",
   "execution_count": 83,
   "id": "c58815bc-82b4-4def-b623-2da368e08da1",
   "metadata": {},
   "outputs": [
    {
     "data": {
      "text/plain": [
       "0.7067841190646827"
      ]
     },
     "execution_count": 83,
     "metadata": {},
     "output_type": "execute_result"
    }
   ],
   "source": [
    "# As 23 is optimal value\n",
    "\n",
    "Knn=KNeighborsRegressor(n_neighbors=23)\n",
    "Knn.fit(X_train,y_train)\n",
    "y_pred=Knn.predict(X_test)\n",
    "r2_score(y_test,y_pred)\n"
   ]
  },
  {
   "cell_type": "markdown",
   "id": "f771becf-7e71-46d1-90b7-409f9b4a2b7e",
   "metadata": {},
   "source": [
    "### LINEAR REGRESSION"
   ]
  },
  {
   "cell_type": "code",
   "execution_count": 85,
   "id": "cff7fcf3-fc50-46c8-b9fe-60680b448d39",
   "metadata": {},
   "outputs": [],
   "source": [
    "from sklearn.preprocessing import PolynomialFeatures\n",
    "poly= PolynomialFeatures(degree=2)\n",
    "X_train=poly.fit_transform(X_train)\n",
    "X_test=poly.transform(X_test)\n"
   ]
  },
  {
   "cell_type": "code",
   "execution_count": 87,
   "id": "aadb71fd-6f0f-4c3e-bcb8-153b00250a80",
   "metadata": {},
   "outputs": [
    {
     "data": {
      "text/plain": [
       "0.6856719474168967"
      ]
     },
     "execution_count": 87,
     "metadata": {},
     "output_type": "execute_result"
    }
   ],
   "source": [
    "from sklearn.linear_model import LinearRegression\n",
    "from sklearn.metrics import r2_score\n",
    "lr=LinearRegression()\n",
    "lr.fit(X_train,y_train)\n",
    "y_pred=lr.predict(X_test)\n",
    "r2_score(y_test,y_pred)\n"
   ]
  },
  {
   "cell_type": "markdown",
   "id": "1549f2f1-998f-4a30-87f4-b84ccb20b1bd",
   "metadata": {},
   "source": [
    "### PCA"
   ]
  },
  {
   "cell_type": "code",
   "execution_count": 91,
   "id": "81a8e9c6-5c97-4948-baf4-721effd9c7e5",
   "metadata": {},
   "outputs": [],
   "source": [
    "from sklearn.decomposition import PCA\n",
    "pca=PCA(n_components=6)\n",
    "X_train=pca.fit_transform(X_train)\n",
    "X_test=pca.transform(X_test)"
   ]
  },
  {
   "cell_type": "markdown",
   "id": "619e2595-c02d-440d-9096-260eb06c90a0",
   "metadata": {},
   "source": [
    "### DECISION TREE "
   ]
  },
  {
   "cell_type": "code",
   "execution_count": 94,
   "id": "4f0b86d2-ebb3-43c4-bd02-956cab62fa4e",
   "metadata": {},
   "outputs": [
    {
     "data": {
      "text/plain": [
       "0.34938516388737084"
      ]
     },
     "execution_count": 94,
     "metadata": {},
     "output_type": "execute_result"
    }
   ],
   "source": [
    "# import the regressor \n",
    "from sklearn.tree import DecisionTreeRegressor \n",
    "from sklearn.metrics import r2_score\n",
    "DT= DecisionTreeRegressor(random_state = 0) \n",
    "DT.fit(X_train,y_train)\n",
    "y_pred=DT.predict(X_test)\n",
    "r2_score(y_test,y_pred)\n",
    "\n"
   ]
  },
  {
   "cell_type": "markdown",
   "id": "c4b7d231-7383-4da8-bcf7-a427c7c07119",
   "metadata": {},
   "source": [
    "### RANDOM FOREST"
   ]
  },
  {
   "cell_type": "code",
   "execution_count": 101,
   "id": "f2e0478f-bd96-44cf-b50c-adb07f31130b",
   "metadata": {},
   "outputs": [
    {
     "data": {
      "text/plain": [
       "0.6929560565666719"
      ]
     },
     "execution_count": 101,
     "metadata": {},
     "output_type": "execute_result"
    }
   ],
   "source": [
    "from sklearn.ensemble import RandomForestRegressor\n",
    "from sklearn.metrics import r2_score\n",
    "RF=RandomForestRegressor(max_samples=0.75,n_jobs=-1)\n",
    "RF.fit(X_train,y_train)\n",
    "y_pred=RF.predict(X_test)\n",
    "r2_score(y_test,y_pred)\n",
    "\n"
   ]
  }
 ],
 "metadata": {
  "kernelspec": {
   "display_name": "Python 3 (ipykernel)",
   "language": "python",
   "name": "python3"
  },
  "language_info": {
   "codemirror_mode": {
    "name": "ipython",
    "version": 3
   },
   "file_extension": ".py",
   "mimetype": "text/x-python",
   "name": "python",
   "nbconvert_exporter": "python",
   "pygments_lexer": "ipython3",
   "version": "3.12.4"
  }
 },
 "nbformat": 4,
 "nbformat_minor": 5
}
